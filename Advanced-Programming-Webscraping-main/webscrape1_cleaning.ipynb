{
 "cells": [
  {
   "cell_type": "code",
   "execution_count": 13,
   "metadata": {},
   "outputs": [],
   "source": [
    "from selenium import webdriver\n",
    "from selenium.webdriver.common.keys import Keys\n",
    "from selenium.webdriver.support.ui import WebDriverWait\n",
    "from selenium.webdriver.common.by import By\n",
    "from selenium.webdriver.support import expected_conditions as EC\n",
    "import csv\n",
    "import openpyxl\n",
    "import time\n",
    "import pandas as pd"
   ]
  },
  {
   "cell_type": "code",
   "execution_count": 14,
   "metadata": {},
   "outputs": [],
   "source": [
    "#loading the excel file\n",
    "df=pd.read_excel('/Users/andreamaffei/Desktop/Masters/Classes/Spring Semester/Programming/Project/results/results.xlsx')"
   ]
  },
  {
   "cell_type": "code",
   "execution_count": 15,
   "metadata": {},
   "outputs": [
    {
     "data": {
      "text/html": [
       "<div>\n",
       "<style scoped>\n",
       "    .dataframe tbody tr th:only-of-type {\n",
       "        vertical-align: middle;\n",
       "    }\n",
       "\n",
       "    .dataframe tbody tr th {\n",
       "        vertical-align: top;\n",
       "    }\n",
       "\n",
       "    .dataframe thead th {\n",
       "        text-align: right;\n",
       "    }\n",
       "</style>\n",
       "<table border=\"1\" class=\"dataframe\">\n",
       "  <thead>\n",
       "    <tr style=\"text-align: right;\">\n",
       "      <th></th>\n",
       "      <th>Company Name</th>\n",
       "      <th>Staff Name</th>\n",
       "      <th>Title</th>\n",
       "      <th>Address</th>\n",
       "    </tr>\n",
       "  </thead>\n",
       "  <tbody>\n",
       "    <tr>\n",
       "      <th>0</th>\n",
       "      <td>A - 1 FOOD MART CORPORATION</td>\n",
       "      <td>JAVED SHAIKH</td>\n",
       "      <td>PRESIDENT</td>\n",
       "      <td>11 RANDALL ST #2 WALTHAM, MA 02453 USA</td>\n",
       "    </tr>\n",
       "    <tr>\n",
       "      <th>1</th>\n",
       "      <td>A - 1 FOOD MART CORPORATION</td>\n",
       "      <td>AMRIN SHAIKH</td>\n",
       "      <td>TREASURER</td>\n",
       "      <td>11 RANDALL ST #2 WALTHAM, MA 02453 USA</td>\n",
       "    </tr>\n",
       "    <tr>\n",
       "      <th>2</th>\n",
       "      <td>A - 1 FOOD MART CORPORATION</td>\n",
       "      <td>JAVED SHAIKH</td>\n",
       "      <td>SECRETARY</td>\n",
       "      <td>11 RANDALL ST #2 WALTHAM, MA 02453 USA</td>\n",
       "    </tr>\n",
       "    <tr>\n",
       "      <th>3</th>\n",
       "      <td>A - 1 FOOD MART CORPORATION</td>\n",
       "      <td>JAVED SHAIKH</td>\n",
       "      <td>DIRECTOR</td>\n",
       "      <td>11 RANDALL ST #2 WALTHAM, MA 02453 USA</td>\n",
       "    </tr>\n",
       "    <tr>\n",
       "      <th>4</th>\n",
       "      <td>A - 1 FOOD MART CORPORATION</td>\n",
       "      <td>AMRIN SHAIKH</td>\n",
       "      <td>DIRECTOR</td>\n",
       "      <td>11 RANDALL ST #2 WALTHAM, MA 02453 USA</td>\n",
       "    </tr>\n",
       "  </tbody>\n",
       "</table>\n",
       "</div>"
      ],
      "text/plain": [
       "                  Company Name    Staff Name      Title  \\\n",
       "0  A - 1 FOOD MART CORPORATION  JAVED SHAIKH  PRESIDENT   \n",
       "1  A - 1 FOOD MART CORPORATION  AMRIN SHAIKH  TREASURER   \n",
       "2  A - 1 FOOD MART CORPORATION  JAVED SHAIKH  SECRETARY   \n",
       "3  A - 1 FOOD MART CORPORATION  JAVED SHAIKH   DIRECTOR   \n",
       "4  A - 1 FOOD MART CORPORATION  AMRIN SHAIKH   DIRECTOR   \n",
       "\n",
       "                                  Address  \n",
       "0  11 RANDALL ST #2 WALTHAM, MA 02453 USA  \n",
       "1  11 RANDALL ST #2 WALTHAM, MA 02453 USA  \n",
       "2  11 RANDALL ST #2 WALTHAM, MA 02453 USA  \n",
       "3  11 RANDALL ST #2 WALTHAM, MA 02453 USA  \n",
       "4  11 RANDALL ST #2 WALTHAM, MA 02453 USA  "
      ]
     },
     "execution_count": 15,
     "metadata": {},
     "output_type": "execute_result"
    }
   ],
   "source": [
    "df.head()"
   ]
  },
  {
   "cell_type": "code",
   "execution_count": 17,
   "metadata": {},
   "outputs": [],
   "source": [
    "#populating the new columns with the first and last name of the staff\n",
    "df['First Name'] = df['Staff Name'].str.split(' ').str[0]\n",
    "\n",
    "#ppopulating the new columns with the last name of the staff,  taken from reading right to left until the first space\n",
    "df['Last Name'] = df['Staff Name'].str.split(' ').str[-1]\n",
    "\n",
    "#put Columns First Name First and Columns Last Name second in the dataframe\n",
    "df = df[['First Name', 'Last Name', 'Staff Name', 'Title', 'Address']]"
   ]
  },
  {
   "cell_type": "code",
   "execution_count": 18,
   "metadata": {},
   "outputs": [
    {
     "data": {
      "text/html": [
       "<div>\n",
       "<style scoped>\n",
       "    .dataframe tbody tr th:only-of-type {\n",
       "        vertical-align: middle;\n",
       "    }\n",
       "\n",
       "    .dataframe tbody tr th {\n",
       "        vertical-align: top;\n",
       "    }\n",
       "\n",
       "    .dataframe thead th {\n",
       "        text-align: right;\n",
       "    }\n",
       "</style>\n",
       "<table border=\"1\" class=\"dataframe\">\n",
       "  <thead>\n",
       "    <tr style=\"text-align: right;\">\n",
       "      <th></th>\n",
       "      <th>First Name</th>\n",
       "      <th>Last Name</th>\n",
       "      <th>Staff Name</th>\n",
       "      <th>Title</th>\n",
       "      <th>Address</th>\n",
       "    </tr>\n",
       "  </thead>\n",
       "  <tbody>\n",
       "    <tr>\n",
       "      <th>13</th>\n",
       "      <td>MICHAEL</td>\n",
       "      <td>DUVAL</td>\n",
       "      <td>MICHAEL P. DUVAL</td>\n",
       "      <td>DIRECTOR</td>\n",
       "      <td>72 DAYTON ST. DANVERS, MA 01923 USA</td>\n",
       "    </tr>\n",
       "    <tr>\n",
       "      <th>14</th>\n",
       "      <td>JOSE</td>\n",
       "      <td>ANDRADE</td>\n",
       "      <td>JOSE ANDRADE</td>\n",
       "      <td>PRESIDENT</td>\n",
       "      <td>24 NORTH WALKER STREET TAUNTON, MA 02780 USA</td>\n",
       "    </tr>\n",
       "    <tr>\n",
       "      <th>15</th>\n",
       "      <td>JOSE</td>\n",
       "      <td>ANDRADE</td>\n",
       "      <td>JOSE ANDRADE</td>\n",
       "      <td>TREASURER</td>\n",
       "      <td>24 NORTH WALKER STREET TAUNTON, MA 02780 USA</td>\n",
       "    </tr>\n",
       "    <tr>\n",
       "      <th>16</th>\n",
       "      <td>JOSE</td>\n",
       "      <td>ANDRADE</td>\n",
       "      <td>JOSE ANDRADE</td>\n",
       "      <td>SECRETARY</td>\n",
       "      <td>24 NORTH WALKER STREET TAUNTON, MA 02780 USA</td>\n",
       "    </tr>\n",
       "    <tr>\n",
       "      <th>17</th>\n",
       "      <td>JOSE</td>\n",
       "      <td>ANDRADE</td>\n",
       "      <td>JOSE ANDRADE</td>\n",
       "      <td>DIRECTOR</td>\n",
       "      <td>24 NORTH WALKER STREET TAUNTON, MA 02780 USA</td>\n",
       "    </tr>\n",
       "  </tbody>\n",
       "</table>\n",
       "</div>"
      ],
      "text/plain": [
       "   First Name Last Name        Staff Name      Title  \\\n",
       "13    MICHAEL     DUVAL  MICHAEL P. DUVAL   DIRECTOR   \n",
       "14       JOSE   ANDRADE      JOSE ANDRADE  PRESIDENT   \n",
       "15       JOSE   ANDRADE      JOSE ANDRADE  TREASURER   \n",
       "16       JOSE   ANDRADE      JOSE ANDRADE  SECRETARY   \n",
       "17       JOSE   ANDRADE      JOSE ANDRADE   DIRECTOR   \n",
       "\n",
       "                                         Address  \n",
       "13           72 DAYTON ST. DANVERS, MA 01923 USA  \n",
       "14  24 NORTH WALKER STREET TAUNTON, MA 02780 USA  \n",
       "15  24 NORTH WALKER STREET TAUNTON, MA 02780 USA  \n",
       "16  24 NORTH WALKER STREET TAUNTON, MA 02780 USA  \n",
       "17  24 NORTH WALKER STREET TAUNTON, MA 02780 USA  "
      ]
     },
     "execution_count": 18,
     "metadata": {},
     "output_type": "execute_result"
    }
   ],
   "source": [
    "df.tail()"
   ]
  },
  {
   "cell_type": "code",
   "execution_count": null,
   "metadata": {},
   "outputs": [],
   "source": []
  }
 ],
 "metadata": {
  "kernelspec": {
   "display_name": "Python 3",
   "language": "python",
   "name": "python3"
  },
  "language_info": {
   "codemirror_mode": {
    "name": "ipython",
    "version": 3
   },
   "file_extension": ".py",
   "mimetype": "text/x-python",
   "name": "python",
   "nbconvert_exporter": "python",
   "pygments_lexer": "ipython3",
   "version": "3.11.2"
  },
  "orig_nbformat": 4
 },
 "nbformat": 4,
 "nbformat_minor": 2
}
